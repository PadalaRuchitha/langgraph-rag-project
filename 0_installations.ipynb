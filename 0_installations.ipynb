{
 "cells": [
  {
   "cell_type": "code",
   "execution_count": 133,
   "id": "80abba41",
   "metadata": {},
   "outputs": [],
   "source": [
    "from IPython.core.interactiveshell import InteractiveShell\n",
    "InteractiveShell.ast_node_interactivity = \"all\"\n"
   ]
  },
  {
   "cell_type": "code",
   "execution_count": 134,
   "id": "3dc5aeb8",
   "metadata": {},
   "outputs": [
    {
     "data": {
      "text/html": [
       "<style>.output_wrapper, .output {height:auto !important; max-height: 300px; overflow-y: auto;}</style>"
      ],
      "text/plain": [
       "<IPython.core.display.HTML object>"
      ]
     },
     "metadata": {},
     "output_type": "display_data"
    }
   ],
   "source": [
    "from IPython.display import display, HTML\n",
    "display(HTML(\"<style>.output_wrapper, .output {height:auto !important; max-height: 300px; overflow-y: auto;}</style>\"))\n"
   ]
  },
  {
   "cell_type": "code",
   "execution_count": 135,
   "id": "c48e42a5",
   "metadata": {},
   "outputs": [
    {
     "name": "stderr",
     "output_type": "stream",
     "text": [
      "huggingface/tokenizers: The current process just got forked, after parallelism has already been used. Disabling parallelism to avoid deadlocks...\n",
      "To disable this warning, you can either:\n",
      "\t- Avoid using `tokenizers` before the fork if possible\n",
      "\t- Explicitly set the environment variable TOKENIZERS_PARALLELISM=(true | false)\n"
     ]
    },
    {
     "name": "stdout",
     "output_type": "stream",
     "text": [
      "Requirement already satisfied: langgraph in ./miniconda3/lib/python3.13/site-packages (0.4.8)\n",
      "Requirement already satisfied: langchain in ./miniconda3/lib/python3.13/site-packages (0.3.26)\n",
      "Requirement already satisfied: google-generativeai in ./miniconda3/lib/python3.13/site-packages (0.8.5)\n",
      "Requirement already satisfied: langchain-core>=0.1 in ./miniconda3/lib/python3.13/site-packages (from langgraph) (0.3.66)\n",
      "Requirement already satisfied: langgraph-checkpoint>=2.0.26 in ./miniconda3/lib/python3.13/site-packages (from langgraph) (2.0.26)\n",
      "Requirement already satisfied: langgraph-prebuilt>=0.2.0 in ./miniconda3/lib/python3.13/site-packages (from langgraph) (0.2.2)\n",
      "Requirement already satisfied: langgraph-sdk>=0.1.42 in ./miniconda3/lib/python3.13/site-packages (from langgraph) (0.1.70)\n",
      "Requirement already satisfied: pydantic>=2.7.4 in ./miniconda3/lib/python3.13/site-packages (from langgraph) (2.10.3)\n",
      "Requirement already satisfied: xxhash>=3.5.0 in ./miniconda3/lib/python3.13/site-packages (from langgraph) (3.5.0)\n",
      "Requirement already satisfied: langchain-text-splitters<1.0.0,>=0.3.8 in ./miniconda3/lib/python3.13/site-packages (from langchain) (0.3.8)\n",
      "Requirement already satisfied: langsmith>=0.1.17 in ./miniconda3/lib/python3.13/site-packages (from langchain) (0.3.45)\n",
      "Requirement already satisfied: SQLAlchemy<3,>=1.4 in ./miniconda3/lib/python3.13/site-packages (from langchain) (2.0.41)\n",
      "Requirement already satisfied: requests<3,>=2 in ./miniconda3/lib/python3.13/site-packages (from langchain) (2.32.3)\n",
      "Requirement already satisfied: PyYAML>=5.3 in ./miniconda3/lib/python3.13/site-packages (from langchain) (6.0.2)\n",
      "Requirement already satisfied: google-ai-generativelanguage==0.6.15 in ./miniconda3/lib/python3.13/site-packages (from google-generativeai) (0.6.15)\n",
      "Requirement already satisfied: google-api-core in ./miniconda3/lib/python3.13/site-packages (from google-generativeai) (2.25.0)\n",
      "Requirement already satisfied: google-api-python-client in ./miniconda3/lib/python3.13/site-packages (from google-generativeai) (2.172.0)\n",
      "Requirement already satisfied: google-auth>=2.15.0 in ./miniconda3/lib/python3.13/site-packages (from google-generativeai) (2.40.3)\n",
      "Requirement already satisfied: protobuf in ./miniconda3/lib/python3.13/site-packages (from google-generativeai) (5.29.5)\n",
      "Requirement already satisfied: tqdm in ./miniconda3/lib/python3.13/site-packages (from google-generativeai) (4.67.1)\n",
      "Requirement already satisfied: typing-extensions in ./miniconda3/lib/python3.13/site-packages (from google-generativeai) (4.12.2)\n",
      "Requirement already satisfied: proto-plus<2.0.0dev,>=1.22.3 in ./miniconda3/lib/python3.13/site-packages (from google-ai-generativelanguage==0.6.15->google-generativeai) (1.26.1)\n",
      "Requirement already satisfied: googleapis-common-protos<2.0.0,>=1.56.2 in ./miniconda3/lib/python3.13/site-packages (from google-api-core->google-generativeai) (1.70.0)\n",
      "Requirement already satisfied: cachetools<6.0,>=2.0.0 in ./miniconda3/lib/python3.13/site-packages (from google-auth>=2.15.0->google-generativeai) (5.5.2)\n",
      "Requirement already satisfied: pyasn1-modules>=0.2.1 in ./miniconda3/lib/python3.13/site-packages (from google-auth>=2.15.0->google-generativeai) (0.4.2)\n",
      "Requirement already satisfied: rsa<5,>=3.1.4 in ./miniconda3/lib/python3.13/site-packages (from google-auth>=2.15.0->google-generativeai) (4.9.1)\n",
      "Requirement already satisfied: tenacity!=8.4.0,<10.0.0,>=8.1.0 in ./miniconda3/lib/python3.13/site-packages (from langchain-core>=0.1->langgraph) (9.1.2)\n",
      "Requirement already satisfied: jsonpatch<2.0,>=1.33 in ./miniconda3/lib/python3.13/site-packages (from langchain-core>=0.1->langgraph) (1.33)\n",
      "Requirement already satisfied: packaging<25,>=23.2 in ./miniconda3/lib/python3.13/site-packages (from langchain-core>=0.1->langgraph) (24.2)\n",
      "Requirement already satisfied: ormsgpack<2.0.0,>=1.8.0 in ./miniconda3/lib/python3.13/site-packages (from langgraph-checkpoint>=2.0.26->langgraph) (1.10.0)\n",
      "Requirement already satisfied: httpx>=0.25.2 in ./miniconda3/lib/python3.13/site-packages (from langgraph-sdk>=0.1.42->langgraph) (0.28.1)\n",
      "Requirement already satisfied: orjson>=3.10.1 in ./miniconda3/lib/python3.13/site-packages (from langgraph-sdk>=0.1.42->langgraph) (3.10.18)\n",
      "Requirement already satisfied: requests-toolbelt<2.0.0,>=1.0.0 in ./miniconda3/lib/python3.13/site-packages (from langsmith>=0.1.17->langchain) (1.0.0)\n",
      "Requirement already satisfied: zstandard<0.24.0,>=0.23.0 in ./miniconda3/lib/python3.13/site-packages (from langsmith>=0.1.17->langchain) (0.23.0)\n",
      "Requirement already satisfied: annotated-types>=0.6.0 in ./miniconda3/lib/python3.13/site-packages (from pydantic>=2.7.4->langgraph) (0.6.0)\n",
      "Requirement already satisfied: pydantic-core==2.27.1 in ./miniconda3/lib/python3.13/site-packages (from pydantic>=2.7.4->langgraph) (2.27.1)\n",
      "Requirement already satisfied: charset-normalizer<4,>=2 in ./miniconda3/lib/python3.13/site-packages (from requests<3,>=2->langchain) (3.3.2)\n",
      "Requirement already satisfied: idna<4,>=2.5 in ./miniconda3/lib/python3.13/site-packages (from requests<3,>=2->langchain) (3.7)\n",
      "Requirement already satisfied: urllib3<3,>=1.21.1 in ./miniconda3/lib/python3.13/site-packages (from requests<3,>=2->langchain) (2.3.0)\n",
      "Requirement already satisfied: certifi>=2017.4.17 in ./miniconda3/lib/python3.13/site-packages (from requests<3,>=2->langchain) (2025.4.26)\n",
      "Requirement already satisfied: httplib2<1.0.0,>=0.19.0 in ./miniconda3/lib/python3.13/site-packages (from google-api-python-client->google-generativeai) (0.22.0)\n",
      "Requirement already satisfied: google-auth-httplib2<1.0.0,>=0.2.0 in ./miniconda3/lib/python3.13/site-packages (from google-api-python-client->google-generativeai) (0.2.0)\n",
      "Requirement already satisfied: uritemplate<5,>=3.0.1 in ./miniconda3/lib/python3.13/site-packages (from google-api-python-client->google-generativeai) (4.2.0)\n",
      "Requirement already satisfied: grpcio<2.0.0,>=1.33.2 in ./miniconda3/lib/python3.13/site-packages (from google-api-core[grpc]!=2.0.*,!=2.1.*,!=2.10.*,!=2.2.*,!=2.3.*,!=2.4.*,!=2.5.*,!=2.6.*,!=2.7.*,!=2.8.*,!=2.9.*,<3.0.0dev,>=1.34.1->google-ai-generativelanguage==0.6.15->google-generativeai) (1.72.1)\n",
      "Requirement already satisfied: grpcio-status<2.0.0,>=1.33.2 in ./miniconda3/lib/python3.13/site-packages (from google-api-core[grpc]!=2.0.*,!=2.1.*,!=2.10.*,!=2.2.*,!=2.3.*,!=2.4.*,!=2.5.*,!=2.6.*,!=2.7.*,!=2.8.*,!=2.9.*,<3.0.0dev,>=1.34.1->google-ai-generativelanguage==0.6.15->google-generativeai) (1.71.0)\n",
      "Requirement already satisfied: pyparsing!=3.0.0,!=3.0.1,!=3.0.2,!=3.0.3,<4,>=2.4.2 in ./miniconda3/lib/python3.13/site-packages (from httplib2<1.0.0,>=0.19.0->google-api-python-client->google-generativeai) (3.2.3)\n",
      "Requirement already satisfied: anyio in ./miniconda3/lib/python3.13/site-packages (from httpx>=0.25.2->langgraph-sdk>=0.1.42->langgraph) (4.9.0)\n",
      "Requirement already satisfied: httpcore==1.* in ./miniconda3/lib/python3.13/site-packages (from httpx>=0.25.2->langgraph-sdk>=0.1.42->langgraph) (1.0.9)\n",
      "Requirement already satisfied: h11>=0.16 in ./miniconda3/lib/python3.13/site-packages (from httpcore==1.*->httpx>=0.25.2->langgraph-sdk>=0.1.42->langgraph) (0.16.0)\n",
      "Requirement already satisfied: jsonpointer>=1.9 in ./miniconda3/lib/python3.13/site-packages (from jsonpatch<2.0,>=1.33->langchain-core>=0.1->langgraph) (2.1)\n",
      "Requirement already satisfied: pyasn1<0.7.0,>=0.6.1 in ./miniconda3/lib/python3.13/site-packages (from pyasn1-modules>=0.2.1->google-auth>=2.15.0->google-generativeai) (0.6.1)\n",
      "Requirement already satisfied: sniffio>=1.1 in ./miniconda3/lib/python3.13/site-packages (from anyio->httpx>=0.25.2->langgraph-sdk>=0.1.42->langgraph) (1.3.1)\n",
      "Note: you may need to restart the kernel to use updated packages.\n"
     ]
    }
   ],
   "source": [
    "pip install langgraph langchain google-generativeai\n"
   ]
  },
  {
   "cell_type": "code",
   "execution_count": 136,
   "id": "bb4d70f0",
   "metadata": {},
   "outputs": [
    {
     "name": "stderr",
     "output_type": "stream",
     "text": [
      "huggingface/tokenizers: The current process just got forked, after parallelism has already been used. Disabling parallelism to avoid deadlocks...\n",
      "To disable this warning, you can either:\n",
      "\t- Avoid using `tokenizers` before the fork if possible\n",
      "\t- Explicitly set the environment variable TOKENIZERS_PARALLELISM=(true | false)\n"
     ]
    },
    {
     "name": "stdout",
     "output_type": "stream",
     "text": [
      "Requirement already satisfied: langchain in ./miniconda3/lib/python3.13/site-packages (0.3.26)\n",
      "Requirement already satisfied: faiss-cpu in ./miniconda3/lib/python3.13/site-packages (1.11.0)\n",
      "Requirement already satisfied: sentence-transformers in ./miniconda3/lib/python3.13/site-packages (4.1.0)\n",
      "Requirement already satisfied: langchain-core<1.0.0,>=0.3.66 in ./miniconda3/lib/python3.13/site-packages (from langchain) (0.3.66)\n",
      "Requirement already satisfied: langchain-text-splitters<1.0.0,>=0.3.8 in ./miniconda3/lib/python3.13/site-packages (from langchain) (0.3.8)\n",
      "Requirement already satisfied: langsmith>=0.1.17 in ./miniconda3/lib/python3.13/site-packages (from langchain) (0.3.45)\n",
      "Requirement already satisfied: pydantic<3.0.0,>=2.7.4 in ./miniconda3/lib/python3.13/site-packages (from langchain) (2.10.3)\n",
      "Requirement already satisfied: SQLAlchemy<3,>=1.4 in ./miniconda3/lib/python3.13/site-packages (from langchain) (2.0.41)\n",
      "Requirement already satisfied: requests<3,>=2 in ./miniconda3/lib/python3.13/site-packages (from langchain) (2.32.3)\n",
      "Requirement already satisfied: PyYAML>=5.3 in ./miniconda3/lib/python3.13/site-packages (from langchain) (6.0.2)\n",
      "Requirement already satisfied: numpy<3.0,>=1.25.0 in ./miniconda3/lib/python3.13/site-packages (from faiss-cpu) (2.3.1)\n",
      "Requirement already satisfied: packaging in ./miniconda3/lib/python3.13/site-packages (from faiss-cpu) (24.2)\n",
      "Requirement already satisfied: transformers<5.0.0,>=4.41.0 in ./miniconda3/lib/python3.13/site-packages (from sentence-transformers) (4.53.0)\n",
      "Requirement already satisfied: tqdm in ./miniconda3/lib/python3.13/site-packages (from sentence-transformers) (4.67.1)\n",
      "Requirement already satisfied: torch>=1.11.0 in ./miniconda3/lib/python3.13/site-packages (from sentence-transformers) (2.7.1)\n",
      "Requirement already satisfied: scikit-learn in ./miniconda3/lib/python3.13/site-packages (from sentence-transformers) (1.7.0)\n",
      "Requirement already satisfied: scipy in ./miniconda3/lib/python3.13/site-packages (from sentence-transformers) (1.16.0)\n",
      "Requirement already satisfied: huggingface-hub>=0.20.0 in ./miniconda3/lib/python3.13/site-packages (from sentence-transformers) (0.33.1)\n",
      "Requirement already satisfied: Pillow in ./miniconda3/lib/python3.13/site-packages (from sentence-transformers) (11.2.1)\n",
      "Requirement already satisfied: typing_extensions>=4.5.0 in ./miniconda3/lib/python3.13/site-packages (from sentence-transformers) (4.12.2)\n",
      "Requirement already satisfied: filelock in ./miniconda3/lib/python3.13/site-packages (from huggingface-hub>=0.20.0->sentence-transformers) (3.18.0)\n",
      "Requirement already satisfied: fsspec>=2023.5.0 in ./miniconda3/lib/python3.13/site-packages (from huggingface-hub>=0.20.0->sentence-transformers) (2025.5.1)\n",
      "Requirement already satisfied: hf-xet<2.0.0,>=1.1.2 in ./miniconda3/lib/python3.13/site-packages (from huggingface-hub>=0.20.0->sentence-transformers) (1.1.5)\n",
      "Requirement already satisfied: tenacity!=8.4.0,<10.0.0,>=8.1.0 in ./miniconda3/lib/python3.13/site-packages (from langchain-core<1.0.0,>=0.3.66->langchain) (9.1.2)\n",
      "Requirement already satisfied: jsonpatch<2.0,>=1.33 in ./miniconda3/lib/python3.13/site-packages (from langchain-core<1.0.0,>=0.3.66->langchain) (1.33)\n",
      "Requirement already satisfied: httpx<1,>=0.23.0 in ./miniconda3/lib/python3.13/site-packages (from langsmith>=0.1.17->langchain) (0.28.1)\n",
      "Requirement already satisfied: orjson<4.0.0,>=3.9.14 in ./miniconda3/lib/python3.13/site-packages (from langsmith>=0.1.17->langchain) (3.10.18)\n",
      "Requirement already satisfied: requests-toolbelt<2.0.0,>=1.0.0 in ./miniconda3/lib/python3.13/site-packages (from langsmith>=0.1.17->langchain) (1.0.0)\n",
      "Requirement already satisfied: zstandard<0.24.0,>=0.23.0 in ./miniconda3/lib/python3.13/site-packages (from langsmith>=0.1.17->langchain) (0.23.0)\n",
      "Requirement already satisfied: annotated-types>=0.6.0 in ./miniconda3/lib/python3.13/site-packages (from pydantic<3.0.0,>=2.7.4->langchain) (0.6.0)\n",
      "Requirement already satisfied: pydantic-core==2.27.1 in ./miniconda3/lib/python3.13/site-packages (from pydantic<3.0.0,>=2.7.4->langchain) (2.27.1)\n",
      "Requirement already satisfied: charset-normalizer<4,>=2 in ./miniconda3/lib/python3.13/site-packages (from requests<3,>=2->langchain) (3.3.2)\n",
      "Requirement already satisfied: idna<4,>=2.5 in ./miniconda3/lib/python3.13/site-packages (from requests<3,>=2->langchain) (3.7)\n",
      "Requirement already satisfied: urllib3<3,>=1.21.1 in ./miniconda3/lib/python3.13/site-packages (from requests<3,>=2->langchain) (2.3.0)\n",
      "Requirement already satisfied: certifi>=2017.4.17 in ./miniconda3/lib/python3.13/site-packages (from requests<3,>=2->langchain) (2025.4.26)\n",
      "Requirement already satisfied: setuptools in ./miniconda3/lib/python3.13/site-packages (from torch>=1.11.0->sentence-transformers) (78.1.1)\n",
      "Requirement already satisfied: sympy>=1.13.3 in ./miniconda3/lib/python3.13/site-packages (from torch>=1.11.0->sentence-transformers) (1.14.0)\n",
      "Requirement already satisfied: networkx in ./miniconda3/lib/python3.13/site-packages (from torch>=1.11.0->sentence-transformers) (3.5)\n",
      "Requirement already satisfied: jinja2 in ./miniconda3/lib/python3.13/site-packages (from torch>=1.11.0->sentence-transformers) (3.1.6)\n",
      "Requirement already satisfied: regex!=2019.12.17 in ./miniconda3/lib/python3.13/site-packages (from transformers<5.0.0,>=4.41.0->sentence-transformers) (2024.11.6)\n",
      "Requirement already satisfied: tokenizers<0.22,>=0.21 in ./miniconda3/lib/python3.13/site-packages (from transformers<5.0.0,>=4.41.0->sentence-transformers) (0.21.2)\n",
      "Requirement already satisfied: safetensors>=0.4.3 in ./miniconda3/lib/python3.13/site-packages (from transformers<5.0.0,>=4.41.0->sentence-transformers) (0.5.3)\n",
      "Requirement already satisfied: joblib>=1.2.0 in ./miniconda3/lib/python3.13/site-packages (from scikit-learn->sentence-transformers) (1.5.1)\n",
      "Requirement already satisfied: threadpoolctl>=3.1.0 in ./miniconda3/lib/python3.13/site-packages (from scikit-learn->sentence-transformers) (3.6.0)\n",
      "Requirement already satisfied: anyio in ./miniconda3/lib/python3.13/site-packages (from httpx<1,>=0.23.0->langsmith>=0.1.17->langchain) (4.9.0)\n",
      "Requirement already satisfied: httpcore==1.* in ./miniconda3/lib/python3.13/site-packages (from httpx<1,>=0.23.0->langsmith>=0.1.17->langchain) (1.0.9)\n",
      "Requirement already satisfied: h11>=0.16 in ./miniconda3/lib/python3.13/site-packages (from httpcore==1.*->httpx<1,>=0.23.0->langsmith>=0.1.17->langchain) (0.16.0)\n",
      "Requirement already satisfied: jsonpointer>=1.9 in ./miniconda3/lib/python3.13/site-packages (from jsonpatch<2.0,>=1.33->langchain-core<1.0.0,>=0.3.66->langchain) (2.1)\n",
      "Requirement already satisfied: mpmath<1.4,>=1.1.0 in ./miniconda3/lib/python3.13/site-packages (from sympy>=1.13.3->torch>=1.11.0->sentence-transformers) (1.3.0)\n",
      "Requirement already satisfied: MarkupSafe>=2.0 in ./miniconda3/lib/python3.13/site-packages (from jinja2->torch>=1.11.0->sentence-transformers) (3.0.2)\n",
      "Requirement already satisfied: sniffio>=1.1 in ./miniconda3/lib/python3.13/site-packages (from anyio->httpx<1,>=0.23.0->langsmith>=0.1.17->langchain) (1.3.1)\n",
      "Note: you may need to restart the kernel to use updated packages.\n"
     ]
    }
   ],
   "source": [
    "pip install langchain faiss-cpu sentence-transformers\n"
   ]
  },
  {
   "cell_type": "code",
   "execution_count": 137,
   "id": "a05002e9",
   "metadata": {},
   "outputs": [
    {
     "name": "stderr",
     "output_type": "stream",
     "text": [
      "huggingface/tokenizers: The current process just got forked, after parallelism has already been used. Disabling parallelism to avoid deadlocks...\n",
      "To disable this warning, you can either:\n",
      "\t- Avoid using `tokenizers` before the fork if possible\n",
      "\t- Explicitly set the environment variable TOKENIZERS_PARALLELISM=(true | false)\n"
     ]
    },
    {
     "name": "stdout",
     "output_type": "stream",
     "text": [
      "Requirement already satisfied: langchain-community in ./miniconda3/lib/python3.13/site-packages (0.3.27)\n",
      "Requirement already satisfied: langchain-core<1.0.0,>=0.3.66 in ./miniconda3/lib/python3.13/site-packages (from langchain-community) (0.3.66)\n",
      "Requirement already satisfied: langchain<1.0.0,>=0.3.26 in ./miniconda3/lib/python3.13/site-packages (from langchain-community) (0.3.26)\n",
      "Requirement already satisfied: SQLAlchemy<3,>=1.4 in ./miniconda3/lib/python3.13/site-packages (from langchain-community) (2.0.41)\n",
      "Requirement already satisfied: requests<3,>=2 in ./miniconda3/lib/python3.13/site-packages (from langchain-community) (2.32.3)\n",
      "Requirement already satisfied: PyYAML>=5.3 in ./miniconda3/lib/python3.13/site-packages (from langchain-community) (6.0.2)\n",
      "Requirement already satisfied: aiohttp<4.0.0,>=3.8.3 in ./miniconda3/lib/python3.13/site-packages (from langchain-community) (3.12.13)\n",
      "Requirement already satisfied: tenacity!=8.4.0,<10,>=8.1.0 in ./miniconda3/lib/python3.13/site-packages (from langchain-community) (9.1.2)\n",
      "Requirement already satisfied: dataclasses-json<0.7,>=0.5.7 in ./miniconda3/lib/python3.13/site-packages (from langchain-community) (0.6.7)\n",
      "Requirement already satisfied: pydantic-settings<3.0.0,>=2.4.0 in ./miniconda3/lib/python3.13/site-packages (from langchain-community) (2.10.1)\n",
      "Requirement already satisfied: langsmith>=0.1.125 in ./miniconda3/lib/python3.13/site-packages (from langchain-community) (0.3.45)\n",
      "Requirement already satisfied: httpx-sse<1.0.0,>=0.4.0 in ./miniconda3/lib/python3.13/site-packages (from langchain-community) (0.4.1)\n",
      "Requirement already satisfied: numpy>=2.1.0 in ./miniconda3/lib/python3.13/site-packages (from langchain-community) (2.3.1)\n",
      "Requirement already satisfied: aiohappyeyeballs>=2.5.0 in ./miniconda3/lib/python3.13/site-packages (from aiohttp<4.0.0,>=3.8.3->langchain-community) (2.6.1)\n",
      "Requirement already satisfied: aiosignal>=1.1.2 in ./miniconda3/lib/python3.13/site-packages (from aiohttp<4.0.0,>=3.8.3->langchain-community) (1.3.2)\n",
      "Requirement already satisfied: attrs>=17.3.0 in ./miniconda3/lib/python3.13/site-packages (from aiohttp<4.0.0,>=3.8.3->langchain-community) (25.3.0)\n",
      "Requirement already satisfied: frozenlist>=1.1.1 in ./miniconda3/lib/python3.13/site-packages (from aiohttp<4.0.0,>=3.8.3->langchain-community) (1.7.0)\n",
      "Requirement already satisfied: multidict<7.0,>=4.5 in ./miniconda3/lib/python3.13/site-packages (from aiohttp<4.0.0,>=3.8.3->langchain-community) (6.6.1)\n",
      "Requirement already satisfied: propcache>=0.2.0 in ./miniconda3/lib/python3.13/site-packages (from aiohttp<4.0.0,>=3.8.3->langchain-community) (0.3.2)\n",
      "Requirement already satisfied: yarl<2.0,>=1.17.0 in ./miniconda3/lib/python3.13/site-packages (from aiohttp<4.0.0,>=3.8.3->langchain-community) (1.20.1)\n",
      "Requirement already satisfied: marshmallow<4.0.0,>=3.18.0 in ./miniconda3/lib/python3.13/site-packages (from dataclasses-json<0.7,>=0.5.7->langchain-community) (3.26.1)\n",
      "Requirement already satisfied: typing-inspect<1,>=0.4.0 in ./miniconda3/lib/python3.13/site-packages (from dataclasses-json<0.7,>=0.5.7->langchain-community) (0.9.0)\n",
      "Requirement already satisfied: langchain-text-splitters<1.0.0,>=0.3.8 in ./miniconda3/lib/python3.13/site-packages (from langchain<1.0.0,>=0.3.26->langchain-community) (0.3.8)\n",
      "Requirement already satisfied: pydantic<3.0.0,>=2.7.4 in ./miniconda3/lib/python3.13/site-packages (from langchain<1.0.0,>=0.3.26->langchain-community) (2.10.3)\n",
      "Requirement already satisfied: jsonpatch<2.0,>=1.33 in ./miniconda3/lib/python3.13/site-packages (from langchain-core<1.0.0,>=0.3.66->langchain-community) (1.33)\n",
      "Requirement already satisfied: packaging<25,>=23.2 in ./miniconda3/lib/python3.13/site-packages (from langchain-core<1.0.0,>=0.3.66->langchain-community) (24.2)\n",
      "Requirement already satisfied: typing-extensions>=4.7 in ./miniconda3/lib/python3.13/site-packages (from langchain-core<1.0.0,>=0.3.66->langchain-community) (4.12.2)\n",
      "Requirement already satisfied: httpx<1,>=0.23.0 in ./miniconda3/lib/python3.13/site-packages (from langsmith>=0.1.125->langchain-community) (0.28.1)\n",
      "Requirement already satisfied: orjson<4.0.0,>=3.9.14 in ./miniconda3/lib/python3.13/site-packages (from langsmith>=0.1.125->langchain-community) (3.10.18)\n",
      "Requirement already satisfied: requests-toolbelt<2.0.0,>=1.0.0 in ./miniconda3/lib/python3.13/site-packages (from langsmith>=0.1.125->langchain-community) (1.0.0)\n",
      "Requirement already satisfied: zstandard<0.24.0,>=0.23.0 in ./miniconda3/lib/python3.13/site-packages (from langsmith>=0.1.125->langchain-community) (0.23.0)\n",
      "Requirement already satisfied: python-dotenv>=0.21.0 in ./miniconda3/lib/python3.13/site-packages (from pydantic-settings<3.0.0,>=2.4.0->langchain-community) (1.1.0)\n",
      "Requirement already satisfied: typing-inspection>=0.4.0 in ./miniconda3/lib/python3.13/site-packages (from pydantic-settings<3.0.0,>=2.4.0->langchain-community) (0.4.1)\n",
      "Requirement already satisfied: charset-normalizer<4,>=2 in ./miniconda3/lib/python3.13/site-packages (from requests<3,>=2->langchain-community) (3.3.2)\n",
      "Requirement already satisfied: idna<4,>=2.5 in ./miniconda3/lib/python3.13/site-packages (from requests<3,>=2->langchain-community) (3.7)\n",
      "Requirement already satisfied: urllib3<3,>=1.21.1 in ./miniconda3/lib/python3.13/site-packages (from requests<3,>=2->langchain-community) (2.3.0)\n",
      "Requirement already satisfied: certifi>=2017.4.17 in ./miniconda3/lib/python3.13/site-packages (from requests<3,>=2->langchain-community) (2025.4.26)\n",
      "Requirement already satisfied: anyio in ./miniconda3/lib/python3.13/site-packages (from httpx<1,>=0.23.0->langsmith>=0.1.125->langchain-community) (4.9.0)\n",
      "Requirement already satisfied: httpcore==1.* in ./miniconda3/lib/python3.13/site-packages (from httpx<1,>=0.23.0->langsmith>=0.1.125->langchain-community) (1.0.9)\n",
      "Requirement already satisfied: h11>=0.16 in ./miniconda3/lib/python3.13/site-packages (from httpcore==1.*->httpx<1,>=0.23.0->langsmith>=0.1.125->langchain-community) (0.16.0)\n",
      "Requirement already satisfied: jsonpointer>=1.9 in ./miniconda3/lib/python3.13/site-packages (from jsonpatch<2.0,>=1.33->langchain-core<1.0.0,>=0.3.66->langchain-community) (2.1)\n",
      "Requirement already satisfied: annotated-types>=0.6.0 in ./miniconda3/lib/python3.13/site-packages (from pydantic<3.0.0,>=2.7.4->langchain<1.0.0,>=0.3.26->langchain-community) (0.6.0)\n",
      "Requirement already satisfied: pydantic-core==2.27.1 in ./miniconda3/lib/python3.13/site-packages (from pydantic<3.0.0,>=2.7.4->langchain<1.0.0,>=0.3.26->langchain-community) (2.27.1)\n",
      "Requirement already satisfied: mypy-extensions>=0.3.0 in ./miniconda3/lib/python3.13/site-packages (from typing-inspect<1,>=0.4.0->dataclasses-json<0.7,>=0.5.7->langchain-community) (1.1.0)\n",
      "Requirement already satisfied: sniffio>=1.1 in ./miniconda3/lib/python3.13/site-packages (from anyio->httpx<1,>=0.23.0->langsmith>=0.1.125->langchain-community) (1.3.1)\n",
      "Note: you may need to restart the kernel to use updated packages.\n"
     ]
    }
   ],
   "source": [
    "pip install -U langchain-community"
   ]
  },
  {
   "cell_type": "code",
   "execution_count": 138,
   "id": "881abf1a",
   "metadata": {},
   "outputs": [
    {
     "name": "stderr",
     "output_type": "stream",
     "text": [
      "huggingface/tokenizers: The current process just got forked, after parallelism has already been used. Disabling parallelism to avoid deadlocks...\n",
      "To disable this warning, you can either:\n",
      "\t- Avoid using `tokenizers` before the fork if possible\n",
      "\t- Explicitly set the environment variable TOKENIZERS_PARALLELISM=(true | false)\n"
     ]
    },
    {
     "name": "stdout",
     "output_type": "stream",
     "text": [
      "Requirement already satisfied: pypdf in ./miniconda3/lib/python3.13/site-packages (5.6.1)\n",
      "Note: you may need to restart the kernel to use updated packages.\n"
     ]
    }
   ],
   "source": [
    "pip install pypdf\n"
   ]
  },
  {
   "cell_type": "code",
   "execution_count": 139,
   "id": "31a0e846",
   "metadata": {},
   "outputs": [],
   "source": [
    "from langgraph.graph import StateGraph, END\n"
   ]
  },
  {
   "cell_type": "code",
   "execution_count": 140,
   "id": "bce8f448",
   "metadata": {},
   "outputs": [],
   "source": [
    "from langchain.document_loaders import PyPDFLoader\n",
    "\n",
    "loader = PyPDFLoader(\"/Users/RuchithaPadala/Downloads/Langchain concepts.pdf\")\n",
    "documents = loader.load()\n",
    "\n"
   ]
  },
  {
   "cell_type": "code",
   "execution_count": 141,
   "id": "79bada23",
   "metadata": {},
   "outputs": [
    {
     "name": "stderr",
     "output_type": "stream",
     "text": [
      "/var/folders/c3/lnf3w9n16s19gmr0gqzztl480000gr/T/ipykernel_12381/2074367401.py:4: LangChainDeprecationWarning: Default values for HuggingFaceEmbeddings.model_name were deprecated in LangChain 0.2.16 and will be removed in 0.4.0. Explicitly pass a model_name to the HuggingFaceEmbeddings constructor instead.\n",
      "  embedding = HuggingFaceEmbeddings()\n"
     ]
    }
   ],
   "source": [
    "from langchain.vectorstores import FAISS\n",
    "from langchain.embeddings import HuggingFaceEmbeddings\n",
    "\n",
    "embedding = HuggingFaceEmbeddings()\n",
    "db = FAISS.from_documents(documents, embedding)\n"
   ]
  },
  {
   "cell_type": "code",
   "execution_count": 142,
   "id": "fdf24ff0",
   "metadata": {},
   "outputs": [],
   "source": [
    "from langchain.text_splitter import RecursiveCharacterTextSplitter\n",
    "\n",
    "splitter = RecursiveCharacterTextSplitter(chunk_size=500, chunk_overlap=100)\n",
    "split_docs = splitter.split_documents(documents)\n",
    "\n",
    "db = FAISS.from_documents(split_docs, embedding)\n"
   ]
  },
  {
   "cell_type": "code",
   "execution_count": 143,
   "id": "3a954d90",
   "metadata": {},
   "outputs": [
    {
     "name": "stdout",
     "output_type": "stream",
     "text": [
      "Total documents loaded: 2\n",
      "Title:  LangChain  Overview  for  Developers   LangChain  is  a  framework  designed  to  simplify  the  development  of  applications  powered  by  \n",
      "large\n",
      " \n",
      "language\n",
      " \n",
      "models\n",
      " \n",
      "(LLMs).\n",
      " \n",
      "It\n",
      " \n",
      "provides\n",
      " \n",
      "modular\n",
      " \n",
      "components\n",
      " \n",
      "and\n",
      " \n",
      "tools\n",
      " \n",
      "to\n",
      " \n",
      "build\n",
      " \n",
      "custom\n",
      " \n",
      "AI\n",
      " \n",
      "agents,\n",
      " \n",
      "chatbots,\n",
      " \n",
      "question-answering\n",
      " \n",
      "systems,\n",
      " \n",
      "and\n",
      " \n",
      "more.\n",
      "  1.  Key  Concepts   -  Language  Models:  These  are  foundational  models  like  GPT-4  or  Gemini  that  generate  \n",
      "human-like\n",
      " \n",
      "text.\n",
      " -  Chains:  A  series  of  calls  that  link  together  components  like  prompts,  tools,  or  other  chains.  -  Agents:  These  make  decisions  about  which  tools  to  use  based  on  user  input.  -  Memory:  This  allows  AI  applications  to  remember  previous  interactions  for  more  personalized  \n",
      "responses.\n",
      " -  Retrieval:  Integration  with  document  stores  to  allow  grounding  AI  responses  on  custom  or  \n",
      "external\n",
      " \n",
      "knowledge.\n",
      "  2.  Use  Cases   -  Customer  Support  Bots  -  Legal  and  Policy  Q&A  \n"
     ]
    }
   ],
   "source": [
    "print(f\"Total documents loaded: {len(documents)}\")\n",
    "print(documents[0].page_content[:1000])\n"
   ]
  },
  {
   "cell_type": "code",
   "execution_count": 144,
   "id": "552429ea",
   "metadata": {},
   "outputs": [],
   "source": [
    "def retrieve_internal_docs(query: str, top_k: int = 3, threshold: float = 0.75, keyword_ratio: float = 0.3) -> str:\n",
    "    results = db.similarity_search_with_score(query, k=top_k)\n",
    "\n",
    "    print(\"🔍 RAG similarity scores:\")\n",
    "    for doc, score in results:\n",
    "        print(f\"📏 Score: {score:.2f}\")\n",
    "    \n",
    "    # Step 1: Filter by threshold\n",
    "    candidates = [(doc, score) for doc, score in results if score <= threshold]\n",
    "\n",
    "    # Step 2: Filter further by keyword overlap\n",
    "    from collections import Counter\n",
    "\n",
    "    query_words = set(query.lower().split())\n",
    "\n",
    "    final_docs = []\n",
    "    for doc, score in candidates:\n",
    "        doc_words = set(doc.page_content.lower().split())\n",
    "        overlap = query_words & doc_words\n",
    "        ratio = len(overlap) / len(query_words) if query_words else 0\n",
    "        print(f\"🔠 Overlap ratio: {ratio:.2f}\")\n",
    "\n",
    "        if ratio >= keyword_ratio:\n",
    "            final_docs.append(doc)\n",
    "\n",
    "    if not final_docs:\n",
    "        print(\"❌ RAG rejected — No meaningful document found.\")\n",
    "        return \"\"\n",
    "\n",
    "    print(\"✅ RAG accepted — returning document(s).\")\n",
    "    return \"\\n\\n\".join([doc.page_content for doc in final_docs])\n"
   ]
  },
  {
   "cell_type": "code",
   "execution_count": 145,
   "id": "08a9673d",
   "metadata": {},
   "outputs": [
    {
     "name": "stderr",
     "output_type": "stream",
     "text": [
      "huggingface/tokenizers: The current process just got forked, after parallelism has already been used. Disabling parallelism to avoid deadlocks...\n",
      "To disable this warning, you can either:\n",
      "\t- Avoid using `tokenizers` before the fork if possible\n",
      "\t- Explicitly set the environment variable TOKENIZERS_PARALLELISM=(true | false)\n"
     ]
    },
    {
     "name": "stdout",
     "output_type": "stream",
     "text": [
      "Requirement already satisfied: google-search-results in ./miniconda3/lib/python3.13/site-packages (2.4.2)\n",
      "Requirement already satisfied: requests in ./miniconda3/lib/python3.13/site-packages (from google-search-results) (2.32.3)\n",
      "Requirement already satisfied: charset-normalizer<4,>=2 in ./miniconda3/lib/python3.13/site-packages (from requests->google-search-results) (3.3.2)\n",
      "Requirement already satisfied: idna<4,>=2.5 in ./miniconda3/lib/python3.13/site-packages (from requests->google-search-results) (3.7)\n",
      "Requirement already satisfied: urllib3<3,>=1.21.1 in ./miniconda3/lib/python3.13/site-packages (from requests->google-search-results) (2.3.0)\n",
      "Requirement already satisfied: certifi>=2017.4.17 in ./miniconda3/lib/python3.13/site-packages (from requests->google-search-results) (2025.4.26)\n",
      "Note: you may need to restart the kernel to use updated packages.\n"
     ]
    }
   ],
   "source": [
    "pip install google-search-results\n"
   ]
  },
  {
   "cell_type": "code",
   "execution_count": 146,
   "id": "30cd90d7",
   "metadata": {},
   "outputs": [
    {
     "data": {
      "text/plain": [
       "True"
      ]
     },
     "execution_count": 146,
     "metadata": {},
     "output_type": "execute_result"
    }
   ],
   "source": [
    "from dotenv import load_dotenv\n",
    "import os\n",
    "\n",
    "load_dotenv()  # Load environment variables from .env\n",
    "\n",
    "# Now fetch the key\n",
    "SERP_API_KEY = os.getenv(\"SERPAPI_API_KEY\")\n"
   ]
  },
  {
   "cell_type": "code",
   "execution_count": 147,
   "id": "5256e195",
   "metadata": {},
   "outputs": [],
   "source": [
    "def search_google_web(query: str, max_results: int = 5) -> str:\n",
    "    from serpapi import GoogleSearch\n",
    "    import re\n",
    "\n",
    "    params = {\n",
    "        \"engine\": \"google\",\n",
    "        \"q\": query,\n",
    "        \"api_key\": SERP_API_KEY,\n",
    "        \"num\": max_results\n",
    "    }\n",
    "    search = GoogleSearch(params)\n",
    "    results = search.get_dict()\n",
    "\n",
    "    if not results.get(\"organic_results\"):\n",
    "        return \"No reliable web result found.\"\n",
    "\n",
    "    for res in results[\"organic_results\"]:\n",
    "        title = res.get(\"title\", \"\")\n",
    "        snippet = res.get(\"snippet\", \"\")\n",
    "        link = res.get(\"link\", \"\")\n",
    "\n",
    "        # 1. ❌ Reject links with wrong year\n",
    "        if re.search(r\"202[0-4]\", snippet) or \"2023\" in link:\n",
    "            continue\n",
    "\n",
    "        # 2. ✅ Strong match: 2025 + winner keywords\n",
    "        if \"2025\" in snippet and any(word in snippet.lower() for word in [\"won\", \"defeated\", \"champion\", \"beat\", \"final\"]):\n",
    "            return f\"{title}: {snippet} (Source: {link})\"\n",
    "\n",
    "        # 3. ✅ Reputable fallback with 2025\n",
    "        if \"2025\" in snippet and any(domain in link for domain in [\"wikipedia.org\", \"espncricinfo.com\"]):\n",
    "            return f\"{title}: {snippet} (Source: {link})\"\n",
    "\n",
    "    # 4. Final fallback (less strict)\n",
    "    res = results[\"organic_results\"][0]\n",
    "    return f\"{res.get('title')}: {res.get('snippet')} (Source: {res.get('link')})\"\n"
   ]
  },
  {
   "cell_type": "code",
   "execution_count": 148,
   "id": "ae0baf3c",
   "metadata": {},
   "outputs": [],
   "source": [
    "# Basic Python tools\n",
    "from dataclasses import dataclass\n",
    "from typing import Annotated\n",
    "\n",
    "# LangGraph: To build the AI agent graph\n",
    "from langgraph.graph import StateGraph, END\n",
    "\n",
    "# LangChain: To work with Google Gemini\n",
    "from langchain_google_genai import ChatGoogleGenerativeAI\n",
    "\n",
    "# For schema validation of input/output\n",
    "from langchain_core.prompts import ChatPromptTemplate\n",
    "from langchain_core.output_parsers import StrOutputParser\n"
   ]
  },
  {
   "cell_type": "code",
   "execution_count": 149,
   "id": "511c2f83",
   "metadata": {},
   "outputs": [
    {
     "data": {
      "text/plain": [
       "True"
      ]
     },
     "execution_count": 149,
     "metadata": {},
     "output_type": "execute_result"
    },
    {
     "name": "stdout",
     "output_type": "stream",
     "text": [
      "✅ API Key loaded!\n"
     ]
    }
   ],
   "source": [
    "from dotenv import load_dotenv\n",
    "import os\n",
    "\n",
    "\n",
    "\n",
    "# Load .env file\n",
    "load_dotenv()\n",
    "\n",
    "# Fetch the key from the environment\n",
    "GOOGLE_API_KEY = os.getenv(\"GOOGLE_API_KEY\")\n",
    "\n",
    "# Check that it's loaded\n",
    "print(\"✅ API Key loaded!\" if GOOGLE_API_KEY else \"❌ API Key not found.\")\n"
   ]
  },
  {
   "cell_type": "code",
   "execution_count": 150,
   "id": "1b216378",
   "metadata": {},
   "outputs": [],
   "source": [
    "import google.generativeai as genai\n",
    "\n",
    "llm = ChatGoogleGenerativeAI(\n",
    "    model=\"models/gemini-1.5-flash-002\",\n",
    "    convert_system_message_to_human=False,  # 🔁 Disable auto-conversion\n",
    "    temperature=0.7\n",
    ")\n",
    "\n",
    "\n",
    "\n"
   ]
  },
  {
   "cell_type": "code",
   "execution_count": 151,
   "id": "765788f1",
   "metadata": {},
   "outputs": [],
   "source": [
    "genai.configure(api_key=GOOGLE_API_KEY)\n",
    "\n",
    "gemini_model = genai.GenerativeModel(\"gemini-1.5-flash\")  # or gemini-1.5-pro\n"
   ]
  },
  {
   "cell_type": "code",
   "execution_count": 152,
   "id": "94eef4a8",
   "metadata": {},
   "outputs": [],
   "source": [
    "from dataclasses import dataclass, field, replace\n",
    "from dataclasses import dataclass\n",
    "from typing import Optional\n",
    "\n",
    "@dataclass\n",
    "class AgentState:\n",
    "    query: str\n",
    "    analysis: Optional[str] = None\n",
    "    response: Optional[str] = None\n",
    "    source: Optional[str] = None  # ✅ ADD THIS LINE\n"
   ]
  },
  {
   "cell_type": "code",
   "execution_count": 153,
   "id": "a155a1fe",
   "metadata": {},
   "outputs": [],
   "source": [
    "def input_node(state: AgentState) -> AgentState:\n",
    "    print(\"📥 Input received:\", state.query)\n",
    "    return state"
   ]
  },
  {
   "cell_type": "code",
   "execution_count": 154,
   "id": "a53308e0",
   "metadata": {},
   "outputs": [
    {
     "name": "stderr",
     "output_type": "stream",
     "text": [
      "huggingface/tokenizers: The current process just got forked, after parallelism has already been used. Disabling parallelism to avoid deadlocks...\n",
      "To disable this warning, you can either:\n",
      "\t- Avoid using `tokenizers` before the fork if possible\n",
      "\t- Explicitly set the environment variable TOKENIZERS_PARALLELISM=(true | false)\n"
     ]
    },
    {
     "name": "stdout",
     "output_type": "stream",
     "text": [
      "Requirement already satisfied: langgraph in ./miniconda3/lib/python3.13/site-packages (0.4.8)\n",
      "Requirement already satisfied: langchain in ./miniconda3/lib/python3.13/site-packages (0.3.26)\n",
      "Requirement already satisfied: google-generativeai in ./miniconda3/lib/python3.13/site-packages (0.8.5)\n",
      "Requirement already satisfied: langchain-core>=0.1 in ./miniconda3/lib/python3.13/site-packages (from langgraph) (0.3.66)\n",
      "Requirement already satisfied: langgraph-checkpoint>=2.0.26 in ./miniconda3/lib/python3.13/site-packages (from langgraph) (2.0.26)\n",
      "Requirement already satisfied: langgraph-prebuilt>=0.2.0 in ./miniconda3/lib/python3.13/site-packages (from langgraph) (0.2.2)\n",
      "Requirement already satisfied: langgraph-sdk>=0.1.42 in ./miniconda3/lib/python3.13/site-packages (from langgraph) (0.1.70)\n",
      "Requirement already satisfied: pydantic>=2.7.4 in ./miniconda3/lib/python3.13/site-packages (from langgraph) (2.10.3)\n",
      "Requirement already satisfied: xxhash>=3.5.0 in ./miniconda3/lib/python3.13/site-packages (from langgraph) (3.5.0)\n",
      "Requirement already satisfied: langchain-text-splitters<1.0.0,>=0.3.8 in ./miniconda3/lib/python3.13/site-packages (from langchain) (0.3.8)\n",
      "Requirement already satisfied: langsmith>=0.1.17 in ./miniconda3/lib/python3.13/site-packages (from langchain) (0.3.45)\n",
      "Requirement already satisfied: SQLAlchemy<3,>=1.4 in ./miniconda3/lib/python3.13/site-packages (from langchain) (2.0.41)\n",
      "Requirement already satisfied: requests<3,>=2 in ./miniconda3/lib/python3.13/site-packages (from langchain) (2.32.3)\n",
      "Requirement already satisfied: PyYAML>=5.3 in ./miniconda3/lib/python3.13/site-packages (from langchain) (6.0.2)\n",
      "Requirement already satisfied: google-ai-generativelanguage==0.6.15 in ./miniconda3/lib/python3.13/site-packages (from google-generativeai) (0.6.15)\n",
      "Requirement already satisfied: google-api-core in ./miniconda3/lib/python3.13/site-packages (from google-generativeai) (2.25.0)\n",
      "Requirement already satisfied: google-api-python-client in ./miniconda3/lib/python3.13/site-packages (from google-generativeai) (2.172.0)\n",
      "Requirement already satisfied: google-auth>=2.15.0 in ./miniconda3/lib/python3.13/site-packages (from google-generativeai) (2.40.3)\n",
      "Requirement already satisfied: protobuf in ./miniconda3/lib/python3.13/site-packages (from google-generativeai) (5.29.5)\n",
      "Requirement already satisfied: tqdm in ./miniconda3/lib/python3.13/site-packages (from google-generativeai) (4.67.1)\n",
      "Requirement already satisfied: typing-extensions in ./miniconda3/lib/python3.13/site-packages (from google-generativeai) (4.12.2)\n",
      "Requirement already satisfied: proto-plus<2.0.0dev,>=1.22.3 in ./miniconda3/lib/python3.13/site-packages (from google-ai-generativelanguage==0.6.15->google-generativeai) (1.26.1)\n",
      "Requirement already satisfied: googleapis-common-protos<2.0.0,>=1.56.2 in ./miniconda3/lib/python3.13/site-packages (from google-api-core->google-generativeai) (1.70.0)\n",
      "Requirement already satisfied: cachetools<6.0,>=2.0.0 in ./miniconda3/lib/python3.13/site-packages (from google-auth>=2.15.0->google-generativeai) (5.5.2)\n",
      "Requirement already satisfied: pyasn1-modules>=0.2.1 in ./miniconda3/lib/python3.13/site-packages (from google-auth>=2.15.0->google-generativeai) (0.4.2)\n",
      "Requirement already satisfied: rsa<5,>=3.1.4 in ./miniconda3/lib/python3.13/site-packages (from google-auth>=2.15.0->google-generativeai) (4.9.1)\n",
      "Requirement already satisfied: tenacity!=8.4.0,<10.0.0,>=8.1.0 in ./miniconda3/lib/python3.13/site-packages (from langchain-core>=0.1->langgraph) (9.1.2)\n",
      "Requirement already satisfied: jsonpatch<2.0,>=1.33 in ./miniconda3/lib/python3.13/site-packages (from langchain-core>=0.1->langgraph) (1.33)\n",
      "Requirement already satisfied: packaging<25,>=23.2 in ./miniconda3/lib/python3.13/site-packages (from langchain-core>=0.1->langgraph) (24.2)\n",
      "Requirement already satisfied: ormsgpack<2.0.0,>=1.8.0 in ./miniconda3/lib/python3.13/site-packages (from langgraph-checkpoint>=2.0.26->langgraph) (1.10.0)\n",
      "Requirement already satisfied: httpx>=0.25.2 in ./miniconda3/lib/python3.13/site-packages (from langgraph-sdk>=0.1.42->langgraph) (0.28.1)\n",
      "Requirement already satisfied: orjson>=3.10.1 in ./miniconda3/lib/python3.13/site-packages (from langgraph-sdk>=0.1.42->langgraph) (3.10.18)\n",
      "Requirement already satisfied: requests-toolbelt<2.0.0,>=1.0.0 in ./miniconda3/lib/python3.13/site-packages (from langsmith>=0.1.17->langchain) (1.0.0)\n",
      "Requirement already satisfied: zstandard<0.24.0,>=0.23.0 in ./miniconda3/lib/python3.13/site-packages (from langsmith>=0.1.17->langchain) (0.23.0)\n",
      "Requirement already satisfied: annotated-types>=0.6.0 in ./miniconda3/lib/python3.13/site-packages (from pydantic>=2.7.4->langgraph) (0.6.0)\n",
      "Requirement already satisfied: pydantic-core==2.27.1 in ./miniconda3/lib/python3.13/site-packages (from pydantic>=2.7.4->langgraph) (2.27.1)\n",
      "Requirement already satisfied: charset-normalizer<4,>=2 in ./miniconda3/lib/python3.13/site-packages (from requests<3,>=2->langchain) (3.3.2)\n",
      "Requirement already satisfied: idna<4,>=2.5 in ./miniconda3/lib/python3.13/site-packages (from requests<3,>=2->langchain) (3.7)\n",
      "Requirement already satisfied: urllib3<3,>=1.21.1 in ./miniconda3/lib/python3.13/site-packages (from requests<3,>=2->langchain) (2.3.0)\n",
      "Requirement already satisfied: certifi>=2017.4.17 in ./miniconda3/lib/python3.13/site-packages (from requests<3,>=2->langchain) (2025.4.26)\n",
      "Requirement already satisfied: httplib2<1.0.0,>=0.19.0 in ./miniconda3/lib/python3.13/site-packages (from google-api-python-client->google-generativeai) (0.22.0)\n",
      "Requirement already satisfied: google-auth-httplib2<1.0.0,>=0.2.0 in ./miniconda3/lib/python3.13/site-packages (from google-api-python-client->google-generativeai) (0.2.0)\n",
      "Requirement already satisfied: uritemplate<5,>=3.0.1 in ./miniconda3/lib/python3.13/site-packages (from google-api-python-client->google-generativeai) (4.2.0)\n",
      "Requirement already satisfied: grpcio<2.0.0,>=1.33.2 in ./miniconda3/lib/python3.13/site-packages (from google-api-core[grpc]!=2.0.*,!=2.1.*,!=2.10.*,!=2.2.*,!=2.3.*,!=2.4.*,!=2.5.*,!=2.6.*,!=2.7.*,!=2.8.*,!=2.9.*,<3.0.0dev,>=1.34.1->google-ai-generativelanguage==0.6.15->google-generativeai) (1.72.1)\n",
      "Requirement already satisfied: grpcio-status<2.0.0,>=1.33.2 in ./miniconda3/lib/python3.13/site-packages (from google-api-core[grpc]!=2.0.*,!=2.1.*,!=2.10.*,!=2.2.*,!=2.3.*,!=2.4.*,!=2.5.*,!=2.6.*,!=2.7.*,!=2.8.*,!=2.9.*,<3.0.0dev,>=1.34.1->google-ai-generativelanguage==0.6.15->google-generativeai) (1.71.0)\n",
      "Requirement already satisfied: pyparsing!=3.0.0,!=3.0.1,!=3.0.2,!=3.0.3,<4,>=2.4.2 in ./miniconda3/lib/python3.13/site-packages (from httplib2<1.0.0,>=0.19.0->google-api-python-client->google-generativeai) (3.2.3)\n",
      "Requirement already satisfied: anyio in ./miniconda3/lib/python3.13/site-packages (from httpx>=0.25.2->langgraph-sdk>=0.1.42->langgraph) (4.9.0)\n",
      "Requirement already satisfied: httpcore==1.* in ./miniconda3/lib/python3.13/site-packages (from httpx>=0.25.2->langgraph-sdk>=0.1.42->langgraph) (1.0.9)\n",
      "Requirement already satisfied: h11>=0.16 in ./miniconda3/lib/python3.13/site-packages (from httpcore==1.*->httpx>=0.25.2->langgraph-sdk>=0.1.42->langgraph) (0.16.0)\n",
      "Requirement already satisfied: jsonpointer>=1.9 in ./miniconda3/lib/python3.13/site-packages (from jsonpatch<2.0,>=1.33->langchain-core>=0.1->langgraph) (2.1)\n",
      "Requirement already satisfied: pyasn1<0.7.0,>=0.6.1 in ./miniconda3/lib/python3.13/site-packages (from pyasn1-modules>=0.2.1->google-auth>=2.15.0->google-generativeai) (0.6.1)\n",
      "Requirement already satisfied: sniffio>=1.1 in ./miniconda3/lib/python3.13/site-packages (from anyio->httpx>=0.25.2->langgraph-sdk>=0.1.42->langgraph) (1.3.1)\n",
      "Note: you may need to restart the kernel to use updated packages.\n"
     ]
    }
   ],
   "source": [
    "pip install langgraph langchain google-generativeai\n"
   ]
  },
  {
   "cell_type": "code",
   "execution_count": 155,
   "id": "29e240e7",
   "metadata": {},
   "outputs": [
    {
     "name": "stderr",
     "output_type": "stream",
     "text": [
      "huggingface/tokenizers: The current process just got forked, after parallelism has already been used. Disabling parallelism to avoid deadlocks...\n",
      "To disable this warning, you can either:\n",
      "\t- Avoid using `tokenizers` before the fork if possible\n",
      "\t- Explicitly set the environment variable TOKENIZERS_PARALLELISM=(true | false)\n"
     ]
    },
    {
     "name": "stdout",
     "output_type": "stream",
     "text": [
      "Requirement already satisfied: langchain in ./miniconda3/lib/python3.13/site-packages (0.3.26)\n",
      "Requirement already satisfied: faiss-cpu in ./miniconda3/lib/python3.13/site-packages (1.11.0)\n",
      "Requirement already satisfied: sentence-transformers in ./miniconda3/lib/python3.13/site-packages (4.1.0)\n",
      "Requirement already satisfied: langchain-core<1.0.0,>=0.3.66 in ./miniconda3/lib/python3.13/site-packages (from langchain) (0.3.66)\n",
      "Requirement already satisfied: langchain-text-splitters<1.0.0,>=0.3.8 in ./miniconda3/lib/python3.13/site-packages (from langchain) (0.3.8)\n",
      "Requirement already satisfied: langsmith>=0.1.17 in ./miniconda3/lib/python3.13/site-packages (from langchain) (0.3.45)\n",
      "Requirement already satisfied: pydantic<3.0.0,>=2.7.4 in ./miniconda3/lib/python3.13/site-packages (from langchain) (2.10.3)\n",
      "Requirement already satisfied: SQLAlchemy<3,>=1.4 in ./miniconda3/lib/python3.13/site-packages (from langchain) (2.0.41)\n",
      "Requirement already satisfied: requests<3,>=2 in ./miniconda3/lib/python3.13/site-packages (from langchain) (2.32.3)\n",
      "Requirement already satisfied: PyYAML>=5.3 in ./miniconda3/lib/python3.13/site-packages (from langchain) (6.0.2)\n",
      "Requirement already satisfied: numpy<3.0,>=1.25.0 in ./miniconda3/lib/python3.13/site-packages (from faiss-cpu) (2.3.1)\n",
      "Requirement already satisfied: packaging in ./miniconda3/lib/python3.13/site-packages (from faiss-cpu) (24.2)\n",
      "Requirement already satisfied: transformers<5.0.0,>=4.41.0 in ./miniconda3/lib/python3.13/site-packages (from sentence-transformers) (4.53.0)\n",
      "Requirement already satisfied: tqdm in ./miniconda3/lib/python3.13/site-packages (from sentence-transformers) (4.67.1)\n",
      "Requirement already satisfied: torch>=1.11.0 in ./miniconda3/lib/python3.13/site-packages (from sentence-transformers) (2.7.1)\n",
      "Requirement already satisfied: scikit-learn in ./miniconda3/lib/python3.13/site-packages (from sentence-transformers) (1.7.0)\n",
      "Requirement already satisfied: scipy in ./miniconda3/lib/python3.13/site-packages (from sentence-transformers) (1.16.0)\n",
      "Requirement already satisfied: huggingface-hub>=0.20.0 in ./miniconda3/lib/python3.13/site-packages (from sentence-transformers) (0.33.1)\n",
      "Requirement already satisfied: Pillow in ./miniconda3/lib/python3.13/site-packages (from sentence-transformers) (11.2.1)\n",
      "Requirement already satisfied: typing_extensions>=4.5.0 in ./miniconda3/lib/python3.13/site-packages (from sentence-transformers) (4.12.2)\n",
      "Requirement already satisfied: filelock in ./miniconda3/lib/python3.13/site-packages (from huggingface-hub>=0.20.0->sentence-transformers) (3.18.0)\n",
      "Requirement already satisfied: fsspec>=2023.5.0 in ./miniconda3/lib/python3.13/site-packages (from huggingface-hub>=0.20.0->sentence-transformers) (2025.5.1)\n",
      "Requirement already satisfied: hf-xet<2.0.0,>=1.1.2 in ./miniconda3/lib/python3.13/site-packages (from huggingface-hub>=0.20.0->sentence-transformers) (1.1.5)\n",
      "Requirement already satisfied: tenacity!=8.4.0,<10.0.0,>=8.1.0 in ./miniconda3/lib/python3.13/site-packages (from langchain-core<1.0.0,>=0.3.66->langchain) (9.1.2)\n",
      "Requirement already satisfied: jsonpatch<2.0,>=1.33 in ./miniconda3/lib/python3.13/site-packages (from langchain-core<1.0.0,>=0.3.66->langchain) (1.33)\n",
      "Requirement already satisfied: httpx<1,>=0.23.0 in ./miniconda3/lib/python3.13/site-packages (from langsmith>=0.1.17->langchain) (0.28.1)\n",
      "Requirement already satisfied: orjson<4.0.0,>=3.9.14 in ./miniconda3/lib/python3.13/site-packages (from langsmith>=0.1.17->langchain) (3.10.18)\n",
      "Requirement already satisfied: requests-toolbelt<2.0.0,>=1.0.0 in ./miniconda3/lib/python3.13/site-packages (from langsmith>=0.1.17->langchain) (1.0.0)\n",
      "Requirement already satisfied: zstandard<0.24.0,>=0.23.0 in ./miniconda3/lib/python3.13/site-packages (from langsmith>=0.1.17->langchain) (0.23.0)\n",
      "Requirement already satisfied: annotated-types>=0.6.0 in ./miniconda3/lib/python3.13/site-packages (from pydantic<3.0.0,>=2.7.4->langchain) (0.6.0)\n",
      "Requirement already satisfied: pydantic-core==2.27.1 in ./miniconda3/lib/python3.13/site-packages (from pydantic<3.0.0,>=2.7.4->langchain) (2.27.1)\n",
      "Requirement already satisfied: charset-normalizer<4,>=2 in ./miniconda3/lib/python3.13/site-packages (from requests<3,>=2->langchain) (3.3.2)\n",
      "Requirement already satisfied: idna<4,>=2.5 in ./miniconda3/lib/python3.13/site-packages (from requests<3,>=2->langchain) (3.7)\n",
      "Requirement already satisfied: urllib3<3,>=1.21.1 in ./miniconda3/lib/python3.13/site-packages (from requests<3,>=2->langchain) (2.3.0)\n",
      "Requirement already satisfied: certifi>=2017.4.17 in ./miniconda3/lib/python3.13/site-packages (from requests<3,>=2->langchain) (2025.4.26)\n",
      "Requirement already satisfied: setuptools in ./miniconda3/lib/python3.13/site-packages (from torch>=1.11.0->sentence-transformers) (78.1.1)\n",
      "Requirement already satisfied: sympy>=1.13.3 in ./miniconda3/lib/python3.13/site-packages (from torch>=1.11.0->sentence-transformers) (1.14.0)\n",
      "Requirement already satisfied: networkx in ./miniconda3/lib/python3.13/site-packages (from torch>=1.11.0->sentence-transformers) (3.5)\n",
      "Requirement already satisfied: jinja2 in ./miniconda3/lib/python3.13/site-packages (from torch>=1.11.0->sentence-transformers) (3.1.6)\n",
      "Requirement already satisfied: regex!=2019.12.17 in ./miniconda3/lib/python3.13/site-packages (from transformers<5.0.0,>=4.41.0->sentence-transformers) (2024.11.6)\n",
      "Requirement already satisfied: tokenizers<0.22,>=0.21 in ./miniconda3/lib/python3.13/site-packages (from transformers<5.0.0,>=4.41.0->sentence-transformers) (0.21.2)\n",
      "Requirement already satisfied: safetensors>=0.4.3 in ./miniconda3/lib/python3.13/site-packages (from transformers<5.0.0,>=4.41.0->sentence-transformers) (0.5.3)\n",
      "Requirement already satisfied: joblib>=1.2.0 in ./miniconda3/lib/python3.13/site-packages (from scikit-learn->sentence-transformers) (1.5.1)\n",
      "Requirement already satisfied: threadpoolctl>=3.1.0 in ./miniconda3/lib/python3.13/site-packages (from scikit-learn->sentence-transformers) (3.6.0)\n",
      "Requirement already satisfied: anyio in ./miniconda3/lib/python3.13/site-packages (from httpx<1,>=0.23.0->langsmith>=0.1.17->langchain) (4.9.0)\n",
      "Requirement already satisfied: httpcore==1.* in ./miniconda3/lib/python3.13/site-packages (from httpx<1,>=0.23.0->langsmith>=0.1.17->langchain) (1.0.9)\n",
      "Requirement already satisfied: h11>=0.16 in ./miniconda3/lib/python3.13/site-packages (from httpcore==1.*->httpx<1,>=0.23.0->langsmith>=0.1.17->langchain) (0.16.0)\n",
      "Requirement already satisfied: jsonpointer>=1.9 in ./miniconda3/lib/python3.13/site-packages (from jsonpatch<2.0,>=1.33->langchain-core<1.0.0,>=0.3.66->langchain) (2.1)\n",
      "Requirement already satisfied: mpmath<1.4,>=1.1.0 in ./miniconda3/lib/python3.13/site-packages (from sympy>=1.13.3->torch>=1.11.0->sentence-transformers) (1.3.0)\n",
      "Requirement already satisfied: MarkupSafe>=2.0 in ./miniconda3/lib/python3.13/site-packages (from jinja2->torch>=1.11.0->sentence-transformers) (3.0.2)\n",
      "Requirement already satisfied: sniffio>=1.1 in ./miniconda3/lib/python3.13/site-packages (from anyio->httpx<1,>=0.23.0->langsmith>=0.1.17->langchain) (1.3.1)\n",
      "Note: you may need to restart the kernel to use updated packages.\n"
     ]
    }
   ],
   "source": [
    "pip install langchain faiss-cpu sentence-transformers\n"
   ]
  },
  {
   "cell_type": "code",
   "execution_count": 156,
   "id": "5e7ae31e",
   "metadata": {},
   "outputs": [
    {
     "name": "stderr",
     "output_type": "stream",
     "text": [
      "huggingface/tokenizers: The current process just got forked, after parallelism has already been used. Disabling parallelism to avoid deadlocks...\n",
      "To disable this warning, you can either:\n",
      "\t- Avoid using `tokenizers` before the fork if possible\n",
      "\t- Explicitly set the environment variable TOKENIZERS_PARALLELISM=(true | false)\n"
     ]
    },
    {
     "name": "stdout",
     "output_type": "stream",
     "text": [
      "Requirement already satisfied: langchain-community in ./miniconda3/lib/python3.13/site-packages (0.3.27)\n",
      "Requirement already satisfied: langchain-core<1.0.0,>=0.3.66 in ./miniconda3/lib/python3.13/site-packages (from langchain-community) (0.3.66)\n",
      "Requirement already satisfied: langchain<1.0.0,>=0.3.26 in ./miniconda3/lib/python3.13/site-packages (from langchain-community) (0.3.26)\n",
      "Requirement already satisfied: SQLAlchemy<3,>=1.4 in ./miniconda3/lib/python3.13/site-packages (from langchain-community) (2.0.41)\n",
      "Requirement already satisfied: requests<3,>=2 in ./miniconda3/lib/python3.13/site-packages (from langchain-community) (2.32.3)\n",
      "Requirement already satisfied: PyYAML>=5.3 in ./miniconda3/lib/python3.13/site-packages (from langchain-community) (6.0.2)\n",
      "Requirement already satisfied: aiohttp<4.0.0,>=3.8.3 in ./miniconda3/lib/python3.13/site-packages (from langchain-community) (3.12.13)\n",
      "Requirement already satisfied: tenacity!=8.4.0,<10,>=8.1.0 in ./miniconda3/lib/python3.13/site-packages (from langchain-community) (9.1.2)\n",
      "Requirement already satisfied: dataclasses-json<0.7,>=0.5.7 in ./miniconda3/lib/python3.13/site-packages (from langchain-community) (0.6.7)\n",
      "Requirement already satisfied: pydantic-settings<3.0.0,>=2.4.0 in ./miniconda3/lib/python3.13/site-packages (from langchain-community) (2.10.1)\n",
      "Requirement already satisfied: langsmith>=0.1.125 in ./miniconda3/lib/python3.13/site-packages (from langchain-community) (0.3.45)\n",
      "Requirement already satisfied: httpx-sse<1.0.0,>=0.4.0 in ./miniconda3/lib/python3.13/site-packages (from langchain-community) (0.4.1)\n",
      "Requirement already satisfied: numpy>=2.1.0 in ./miniconda3/lib/python3.13/site-packages (from langchain-community) (2.3.1)\n",
      "Requirement already satisfied: aiohappyeyeballs>=2.5.0 in ./miniconda3/lib/python3.13/site-packages (from aiohttp<4.0.0,>=3.8.3->langchain-community) (2.6.1)\n",
      "Requirement already satisfied: aiosignal>=1.1.2 in ./miniconda3/lib/python3.13/site-packages (from aiohttp<4.0.0,>=3.8.3->langchain-community) (1.3.2)\n",
      "Requirement already satisfied: attrs>=17.3.0 in ./miniconda3/lib/python3.13/site-packages (from aiohttp<4.0.0,>=3.8.3->langchain-community) (25.3.0)\n",
      "Requirement already satisfied: frozenlist>=1.1.1 in ./miniconda3/lib/python3.13/site-packages (from aiohttp<4.0.0,>=3.8.3->langchain-community) (1.7.0)\n",
      "Requirement already satisfied: multidict<7.0,>=4.5 in ./miniconda3/lib/python3.13/site-packages (from aiohttp<4.0.0,>=3.8.3->langchain-community) (6.6.1)\n",
      "Requirement already satisfied: propcache>=0.2.0 in ./miniconda3/lib/python3.13/site-packages (from aiohttp<4.0.0,>=3.8.3->langchain-community) (0.3.2)\n",
      "Requirement already satisfied: yarl<2.0,>=1.17.0 in ./miniconda3/lib/python3.13/site-packages (from aiohttp<4.0.0,>=3.8.3->langchain-community) (1.20.1)\n",
      "Requirement already satisfied: marshmallow<4.0.0,>=3.18.0 in ./miniconda3/lib/python3.13/site-packages (from dataclasses-json<0.7,>=0.5.7->langchain-community) (3.26.1)\n",
      "Requirement already satisfied: typing-inspect<1,>=0.4.0 in ./miniconda3/lib/python3.13/site-packages (from dataclasses-json<0.7,>=0.5.7->langchain-community) (0.9.0)\n",
      "Requirement already satisfied: langchain-text-splitters<1.0.0,>=0.3.8 in ./miniconda3/lib/python3.13/site-packages (from langchain<1.0.0,>=0.3.26->langchain-community) (0.3.8)\n",
      "Requirement already satisfied: pydantic<3.0.0,>=2.7.4 in ./miniconda3/lib/python3.13/site-packages (from langchain<1.0.0,>=0.3.26->langchain-community) (2.10.3)\n",
      "Requirement already satisfied: jsonpatch<2.0,>=1.33 in ./miniconda3/lib/python3.13/site-packages (from langchain-core<1.0.0,>=0.3.66->langchain-community) (1.33)\n",
      "Requirement already satisfied: packaging<25,>=23.2 in ./miniconda3/lib/python3.13/site-packages (from langchain-core<1.0.0,>=0.3.66->langchain-community) (24.2)\n",
      "Requirement already satisfied: typing-extensions>=4.7 in ./miniconda3/lib/python3.13/site-packages (from langchain-core<1.0.0,>=0.3.66->langchain-community) (4.12.2)\n",
      "Requirement already satisfied: httpx<1,>=0.23.0 in ./miniconda3/lib/python3.13/site-packages (from langsmith>=0.1.125->langchain-community) (0.28.1)\n",
      "Requirement already satisfied: orjson<4.0.0,>=3.9.14 in ./miniconda3/lib/python3.13/site-packages (from langsmith>=0.1.125->langchain-community) (3.10.18)\n",
      "Requirement already satisfied: requests-toolbelt<2.0.0,>=1.0.0 in ./miniconda3/lib/python3.13/site-packages (from langsmith>=0.1.125->langchain-community) (1.0.0)\n",
      "Requirement already satisfied: zstandard<0.24.0,>=0.23.0 in ./miniconda3/lib/python3.13/site-packages (from langsmith>=0.1.125->langchain-community) (0.23.0)\n",
      "Requirement already satisfied: python-dotenv>=0.21.0 in ./miniconda3/lib/python3.13/site-packages (from pydantic-settings<3.0.0,>=2.4.0->langchain-community) (1.1.0)\n",
      "Requirement already satisfied: typing-inspection>=0.4.0 in ./miniconda3/lib/python3.13/site-packages (from pydantic-settings<3.0.0,>=2.4.0->langchain-community) (0.4.1)\n",
      "Requirement already satisfied: charset-normalizer<4,>=2 in ./miniconda3/lib/python3.13/site-packages (from requests<3,>=2->langchain-community) (3.3.2)\n",
      "Requirement already satisfied: idna<4,>=2.5 in ./miniconda3/lib/python3.13/site-packages (from requests<3,>=2->langchain-community) (3.7)\n",
      "Requirement already satisfied: urllib3<3,>=1.21.1 in ./miniconda3/lib/python3.13/site-packages (from requests<3,>=2->langchain-community) (2.3.0)\n",
      "Requirement already satisfied: certifi>=2017.4.17 in ./miniconda3/lib/python3.13/site-packages (from requests<3,>=2->langchain-community) (2025.4.26)\n",
      "Requirement already satisfied: anyio in ./miniconda3/lib/python3.13/site-packages (from httpx<1,>=0.23.0->langsmith>=0.1.125->langchain-community) (4.9.0)\n",
      "Requirement already satisfied: httpcore==1.* in ./miniconda3/lib/python3.13/site-packages (from httpx<1,>=0.23.0->langsmith>=0.1.125->langchain-community) (1.0.9)\n",
      "Requirement already satisfied: h11>=0.16 in ./miniconda3/lib/python3.13/site-packages (from httpcore==1.*->httpx<1,>=0.23.0->langsmith>=0.1.125->langchain-community) (0.16.0)\n",
      "Requirement already satisfied: jsonpointer>=1.9 in ./miniconda3/lib/python3.13/site-packages (from jsonpatch<2.0,>=1.33->langchain-core<1.0.0,>=0.3.66->langchain-community) (2.1)\n",
      "Requirement already satisfied: annotated-types>=0.6.0 in ./miniconda3/lib/python3.13/site-packages (from pydantic<3.0.0,>=2.7.4->langchain<1.0.0,>=0.3.26->langchain-community) (0.6.0)\n",
      "Requirement already satisfied: pydantic-core==2.27.1 in ./miniconda3/lib/python3.13/site-packages (from pydantic<3.0.0,>=2.7.4->langchain<1.0.0,>=0.3.26->langchain-community) (2.27.1)\n",
      "Requirement already satisfied: mypy-extensions>=0.3.0 in ./miniconda3/lib/python3.13/site-packages (from typing-inspect<1,>=0.4.0->dataclasses-json<0.7,>=0.5.7->langchain-community) (1.1.0)\n",
      "Requirement already satisfied: sniffio>=1.1 in ./miniconda3/lib/python3.13/site-packages (from anyio->httpx<1,>=0.23.0->langsmith>=0.1.125->langchain-community) (1.3.1)\n",
      "Note: you may need to restart the kernel to use updated packages.\n"
     ]
    }
   ],
   "source": [
    "pip install -U langchain-community"
   ]
  },
  {
   "cell_type": "code",
   "execution_count": 157,
   "id": "243e871e",
   "metadata": {},
   "outputs": [
    {
     "name": "stderr",
     "output_type": "stream",
     "text": [
      "huggingface/tokenizers: The current process just got forked, after parallelism has already been used. Disabling parallelism to avoid deadlocks...\n",
      "To disable this warning, you can either:\n",
      "\t- Avoid using `tokenizers` before the fork if possible\n",
      "\t- Explicitly set the environment variable TOKENIZERS_PARALLELISM=(true | false)\n"
     ]
    },
    {
     "name": "stdout",
     "output_type": "stream",
     "text": [
      "Requirement already satisfied: pypdf in ./miniconda3/lib/python3.13/site-packages (5.6.1)\n",
      "Note: you may need to restart the kernel to use updated packages.\n"
     ]
    }
   ],
   "source": [
    "pip install pypdf\n"
   ]
  },
  {
   "cell_type": "code",
   "execution_count": 158,
   "id": "cbc6625c",
   "metadata": {},
   "outputs": [],
   "source": [
    "def retrieve_internal_docs(query: str, top_k: int = 3, threshold: float = 0.75) -> str:\n",
    "    results = db.similarity_search_with_score(query, k=top_k)\n",
    "    \n",
    "    for doc, score in results:\n",
    "        print(f\"📏 Score (L2 Distance): {score:.2f}\")\n",
    "    \n",
    "    # ✅ Correct: keep only documents with LOW distance (more similar)\n",
    "    filtered = [doc for doc, score in results if score <= threshold]\n",
    "\n",
    "    if not filtered:\n",
    "        print(\"❌ RAG rejected — all documents were above the distance threshold.\")\n",
    "        return \"\"\n",
    "\n",
    "    print(\"✅ RAG accepted — returning result\")\n",
    "    return \"\\n\\n\".join([doc.page_content for doc in filtered])\n"
   ]
  },
  {
   "cell_type": "code",
   "execution_count": 159,
   "id": "41e3d160",
   "metadata": {},
   "outputs": [],
   "source": [
    "from langchain.text_splitter import RecursiveCharacterTextSplitter\n",
    "\n",
    "splitter = RecursiveCharacterTextSplitter(chunk_size=500, chunk_overlap=100)\n",
    "split_docs = splitter.split_documents(documents)\n",
    "\n",
    "db = FAISS.from_documents(split_docs, embedding)\n"
   ]
  },
  {
   "cell_type": "code",
   "execution_count": 160,
   "id": "aeef13ab",
   "metadata": {},
   "outputs": [
    {
     "name": "stderr",
     "output_type": "stream",
     "text": [
      "huggingface/tokenizers: The current process just got forked, after parallelism has already been used. Disabling parallelism to avoid deadlocks...\n",
      "To disable this warning, you can either:\n",
      "\t- Avoid using `tokenizers` before the fork if possible\n",
      "\t- Explicitly set the environment variable TOKENIZERS_PARALLELISM=(true | false)\n"
     ]
    },
    {
     "name": "stdout",
     "output_type": "stream",
     "text": [
      "Requirement already satisfied: google-search-results in ./miniconda3/lib/python3.13/site-packages (2.4.2)\n",
      "Requirement already satisfied: requests in ./miniconda3/lib/python3.13/site-packages (from google-search-results) (2.32.3)\n",
      "Requirement already satisfied: charset-normalizer<4,>=2 in ./miniconda3/lib/python3.13/site-packages (from requests->google-search-results) (3.3.2)\n",
      "Requirement already satisfied: idna<4,>=2.5 in ./miniconda3/lib/python3.13/site-packages (from requests->google-search-results) (3.7)\n",
      "Requirement already satisfied: urllib3<3,>=1.21.1 in ./miniconda3/lib/python3.13/site-packages (from requests->google-search-results) (2.3.0)\n",
      "Requirement already satisfied: certifi>=2017.4.17 in ./miniconda3/lib/python3.13/site-packages (from requests->google-search-results) (2025.4.26)\n",
      "Note: you may need to restart the kernel to use updated packages.\n"
     ]
    }
   ],
   "source": [
    "pip install google-search-results\n"
   ]
  },
  {
   "cell_type": "code",
   "execution_count": 161,
   "id": "cf28fa76",
   "metadata": {},
   "outputs": [
    {
     "data": {
      "text/plain": [
       "True"
      ]
     },
     "execution_count": 161,
     "metadata": {},
     "output_type": "execute_result"
    }
   ],
   "source": [
    "from dotenv import load_dotenv\n",
    "import os\n",
    "\n",
    "load_dotenv()  # Load environment variables from .env\n",
    "\n",
    "# Now fetch the key\n",
    "SERP_API_KEY = os.getenv(\"SERPAPI_API_KEY\")\n"
   ]
  },
  {
   "cell_type": "code",
   "execution_count": 162,
   "id": "55ce34cb",
   "metadata": {},
   "outputs": [],
   "source": [
    "def search_google_web(query: str, max_results: int = 5) -> str:\n",
    "    from serpapi import GoogleSearch\n",
    "    import re\n",
    "\n",
    "    params = {\n",
    "        \"engine\": \"google\",\n",
    "        \"q\": query,\n",
    "        \"api_key\": SERP_API_KEY,\n",
    "        \"num\": max_results\n",
    "    }\n",
    "    search = GoogleSearch(params)\n",
    "    results = search.get_dict()\n",
    "\n",
    "    if not results.get(\"organic_results\"):\n",
    "        return \"No reliable web result found.\"\n",
    "\n",
    "    prime_minister_names = [\"Keir Starmer\", \"Rishi Sunak\"]  # Expand if needed\n",
    "\n",
    "    # 1. Try to find a reliable snippet with a known PM name\n",
    "    for res in results[\"organic_results\"]:\n",
    "        title = res.get(\"title\", \"\")\n",
    "        snippet = res.get(\"snippet\", \"\")\n",
    "        link = res.get(\"link\", \"\")\n",
    "\n",
    "        if any(name in snippet for name in prime_minister_names):\n",
    "            return f\"{snippet} (Source: {link})\"\n",
    "\n",
    "    # 2. As fallback, return the most relevant snippet even if generic\n",
    "    top_result = results[\"organic_results\"][0]\n",
    "    return f\"{top_result.get('title')}: {top_result.get('snippet')} (Source: {top_result.get('link')})\"\n"
   ]
  },
  {
   "cell_type": "code",
   "execution_count": 163,
   "id": "6ebe9b27",
   "metadata": {},
   "outputs": [
    {
     "data": {
      "text/plain": [
       "True"
      ]
     },
     "execution_count": 163,
     "metadata": {},
     "output_type": "execute_result"
    },
    {
     "name": "stdout",
     "output_type": "stream",
     "text": [
      "✅ API Key loaded!\n"
     ]
    }
   ],
   "source": [
    "from dotenv import load_dotenv\n",
    "import os\n",
    "\n",
    "# Load .env file\n",
    "load_dotenv()\n",
    "\n",
    "# Fetch the key from the environment\n",
    "GOOGLE_API_KEY = os.getenv(\"GOOGLE_API_KEY\")\n",
    "\n",
    "# Check that it's loaded\n",
    "print(\"✅ API Key loaded!\" if GOOGLE_API_KEY else \"❌ API Key not found.\")\n"
   ]
  },
  {
   "cell_type": "code",
   "execution_count": 164,
   "id": "c3c44fe5",
   "metadata": {},
   "outputs": [],
   "source": [
    "import google.generativeai as genai\n",
    "\n",
    "llm = ChatGoogleGenerativeAI(\n",
    "    model=\"models/gemini-1.5-flash-002\",\n",
    "    convert_system_message_to_human=False,  # 🔁 Disable auto-conversion\n",
    "    temperature=0.7\n",
    ")\n",
    "\n",
    "\n",
    "\n"
   ]
  },
  {
   "cell_type": "code",
   "execution_count": 165,
   "id": "3434537f",
   "metadata": {},
   "outputs": [],
   "source": [
    "genai.configure(api_key=GOOGLE_API_KEY)\n",
    "\n",
    "gemini_model = genai.GenerativeModel(\"gemini-1.5-flash\")  # or gemini-1.5-pro\n"
   ]
  },
  {
   "cell_type": "code",
   "execution_count": 166,
   "id": "7bf14ec0",
   "metadata": {},
   "outputs": [],
   "source": [
    "from dataclasses import dataclass\n",
    "\n",
    "@dataclass\n",
    "class AgentState:\n",
    "    query: str\n",
    "    analysis: str = \"\"\n",
    "    research: str = \"\"\n",
    "    response: str = \"\"\n",
    "    source: str = \"\"            # ✅ ADD THIS LINE\n",
    "    validated: bool = False\n",
    "    iteration: int = 0\n",
    "    max_iterations: int = 3\n"
   ]
  },
  {
   "cell_type": "code",
   "execution_count": 167,
   "id": "ea09c930",
   "metadata": {},
   "outputs": [],
   "source": [
    "initial_state = AgentState(\n",
    "    query= \"Tell me a philosophical thought about time?\",\n",
    "    analysis=\"\",\n",
    "    research=\"\",\n",
    "    response=\"\",\n",
    "    validated=False,\n",
    "    iteration=0,\n",
    "    max_iterations=3\n",
    ")\n",
    "\n"
   ]
  },
  {
   "cell_type": "code",
   "execution_count": 168,
   "id": "b611cc52",
   "metadata": {},
   "outputs": [],
   "source": [
    "def input_node(state: AgentState) -> AgentState:\n",
    "    print(\"📥 Input received:\", state.query)\n",
    "    return state"
   ]
  },
  {
   "cell_type": "code",
   "execution_count": 169,
   "id": "6ef8a508",
   "metadata": {},
   "outputs": [],
   "source": [
    "def analyzer_node(state: AgentState) -> AgentState:\n",
    "    print(\"📊 Analyzing query:\", state.query)\n",
    "    try:\n",
    "        result = gemini_model.generate_content(f\"Analyze this user question for intent:\\n{state.query}\")\n",
    "        analysis = result.text.strip()\n",
    "    except Exception as e:\n",
    "        print(\"⚠️ Analyzer error:\", e)\n",
    "        analysis = \"Could not analyze the query.\"\n",
    "    print(\"🔍 Analysis:\", analysis)\n",
    "    return replace(state, analysis=analysis)\n"
   ]
  },
  {
   "cell_type": "code",
   "execution_count": 170,
   "id": "92263bca",
   "metadata": {},
   "outputs": [],
   "source": [
    "def researcher_node(state: AgentState) -> AgentState:\n",
    "    query = state.query\n",
    "    print(f\"🔬 Researcher activated for query: {query}\")\n",
    "\n",
    "    rag_result = retrieve_internal_docs(query, threshold=0.75)\n",
    "\n",
    "    if rag_result.strip():\n",
    "        print(\"📚 Using RAG\")\n",
    "        return replace(state, research=rag_result, source=\"RAG\")\n",
    "\n",
    "    web_result = search_google_web(query)\n",
    "    if web_result and \"No reliable\" not in web_result:\n",
    "        print(\"🌐 Using Web\")\n",
    "        return replace(state, research=web_result, source=\"WEB\")\n",
    "\n",
    "    llm_result = call_gemini_llm(query)\n",
    "    print(\"🤖 Using Gemini LLM\")\n",
    "    return replace(state, research=llm_result, source=\"LLM\")\n"
   ]
  },
  {
   "cell_type": "code",
   "execution_count": 171,
   "id": "553f6410",
   "metadata": {},
   "outputs": [],
   "source": [
    "def call_gemini_llm(query: str) -> str:\n",
    "    try:\n",
    "        result = gemini_model.generate_content(query)\n",
    "        return result.text.strip()\n",
    "    except Exception as e:\n",
    "        print(\"⚠️ LLM Error:\", e)\n",
    "        return \"LLM could not generate a response.\"\n"
   ]
  },
  {
   "cell_type": "code",
   "execution_count": 172,
   "id": "2661e04f",
   "metadata": {},
   "outputs": [],
   "source": [
    "def responder_node(state: AgentState) -> AgentState:\n",
    "    print(\"🧠 Generating response for:\", state.query)\n",
    "    try:\n",
    "        if \"no confirmed answer\" in state.research.lower():\n",
    "            response = state.research\n",
    "        else:\n",
    "            source_icon = {\n",
    "                \"RAG\": \"📚\",\n",
    "                \"WEB\": \"🌐\",\n",
    "                \"LLM\": \"🤖\"\n",
    "            }.get(state.source, \"❓\")\n",
    "\n",
    "            response = f\"{source_icon} Answer based on {state.source}:\\n\\n{state.research}\"\n",
    "    except Exception as e:\n",
    "        print(\"⚠️ Responder error:\", e)\n",
    "        response = \"Response generation failed.\"\n",
    "\n",
    "    print(\"💬 Response (first 500 chars):\", response[:500], \"...\")\n",
    "    return replace(state, response=response)\n"
   ]
  },
  {
   "cell_type": "code",
   "execution_count": 173,
   "id": "a793d1d2",
   "metadata": {},
   "outputs": [],
   "source": [
    "def validator_node(state: AgentState) -> AgentState:\n",
    "    print(\"✅ Validating response...\")\n",
    "    query = state.query\n",
    "    answer = state.research\n",
    "\n",
    "    try:\n",
    "        internal_info = retrieve_internal_docs(query)\n",
    "        if internal_info and \"no matching\" not in internal_info.lower():\n",
    "            print(\"📚 Using RAG for validation.\")\n",
    "            context = f\"📚 Internal Docs:\\n{internal_info}\"\n",
    "        else:\n",
    "            web_info = search_google_web(query)\n",
    "            if web_info and \"no reliable\" not in web_info.lower():\n",
    "                print(\"🌐 RAG failed. Using Web for validation.\")\n",
    "                context = f\"🌐 Web Info:\\n{web_info}\"\n",
    "            else:\n",
    "                print(\"🤖 RAG & Web failed. Using Gemini fallback for validation.\")\n",
    "                prompt = f\"\"\"\n",
    "Validate the answer below for the question. If it's factual, return ✅. If wrong or unverified, return ❌.\n",
    "\n",
    "Question: {query}\n",
    "Answer: {answer}\n",
    "\n",
    "Respond with ✅ or ❌ only.\n",
    "\"\"\"\n",
    "                result = gemini_model.generate_content(prompt)\n",
    "                result_text = result.text.strip()\n",
    "                print(\"🧪 Gemini validation reply:\", result_text)\n",
    "                validated = result_text.startswith(\"✅\")\n",
    "                return replace(state, validated=validated)\n",
    "\n",
    "        prompt = f\"\"\"\n",
    "Validate this answer using only the content below. Do NOT assume or hallucinate.\n",
    "\n",
    "Question: {query}\n",
    "Answer: {answer}\n",
    "\n",
    "{context}\n",
    "\n",
    "Instructions:\n",
    "- If the answer is fully supported, reply ✅\n",
    "- If the answer is incorrect or missing context, reply ❌\n",
    "Reply with only ✅ or ❌.\n",
    "\"\"\"\n",
    "        result = gemini_model.generate_content(prompt)\n",
    "        result_text = result.text.strip()\n",
    "        print(\"🧪 Gemini validation reply:\", result_text)\n",
    "        validated = result_text.startswith(\"✅\")\n",
    "        return replace(state, validated=validated)\n",
    "\n",
    "    except Exception as e:\n",
    "        print(\"⚠️ Validator Node Error:\", str(e))\n",
    "        return replace(state, validated=False)\n"
   ]
  },
  {
   "cell_type": "code",
   "execution_count": 174,
   "id": "34e52b64",
   "metadata": {},
   "outputs": [],
   "source": [
    "def router_node(state: AgentState) -> dict:\n",
    "    if state.validated or state.iteration >= state.max_iterations:\n",
    "        return {\"end\": END}\n",
    "    return {\"analyzer\": \"analyzer\"}\n"
   ]
  },
  {
   "cell_type": "code",
   "execution_count": 175,
   "id": "32db1322",
   "metadata": {},
   "outputs": [
    {
     "data": {
      "text/plain": [
       "<langgraph.graph.state.StateGraph at 0x33433d350>"
      ]
     },
     "execution_count": 175,
     "metadata": {},
     "output_type": "execute_result"
    },
    {
     "data": {
      "text/plain": [
       "<langgraph.graph.state.StateGraph at 0x33433d350>"
      ]
     },
     "execution_count": 175,
     "metadata": {},
     "output_type": "execute_result"
    },
    {
     "data": {
      "text/plain": [
       "<langgraph.graph.state.StateGraph at 0x33433d350>"
      ]
     },
     "execution_count": 175,
     "metadata": {},
     "output_type": "execute_result"
    },
    {
     "data": {
      "text/plain": [
       "<langgraph.graph.state.StateGraph at 0x33433d350>"
      ]
     },
     "execution_count": 175,
     "metadata": {},
     "output_type": "execute_result"
    },
    {
     "data": {
      "text/plain": [
       "<langgraph.graph.state.StateGraph at 0x33433d350>"
      ]
     },
     "execution_count": 175,
     "metadata": {},
     "output_type": "execute_result"
    },
    {
     "data": {
      "text/plain": [
       "<langgraph.graph.state.StateGraph at 0x33433d350>"
      ]
     },
     "execution_count": 175,
     "metadata": {},
     "output_type": "execute_result"
    },
    {
     "data": {
      "text/plain": [
       "<langgraph.graph.state.StateGraph at 0x33433d350>"
      ]
     },
     "execution_count": 175,
     "metadata": {},
     "output_type": "execute_result"
    },
    {
     "data": {
      "text/plain": [
       "<langgraph.graph.state.StateGraph at 0x33433d350>"
      ]
     },
     "execution_count": 175,
     "metadata": {},
     "output_type": "execute_result"
    },
    {
     "data": {
      "text/plain": [
       "<langgraph.graph.state.StateGraph at 0x33433d350>"
      ]
     },
     "execution_count": 175,
     "metadata": {},
     "output_type": "execute_result"
    },
    {
     "data": {
      "text/plain": [
       "<langgraph.graph.state.StateGraph at 0x33433d350>"
      ]
     },
     "execution_count": 175,
     "metadata": {},
     "output_type": "execute_result"
    },
    {
     "data": {
      "text/plain": [
       "<langgraph.graph.state.StateGraph at 0x33433d350>"
      ]
     },
     "execution_count": 175,
     "metadata": {},
     "output_type": "execute_result"
    }
   ],
   "source": [
    "workflow = StateGraph(AgentState)\n",
    "\n",
    "# Add core nodes\n",
    "workflow.add_node(\"input\", lambda state: state)\n",
    "workflow.add_node(\"analyzer\", analyzer_node)\n",
    "workflow.add_node(\"researcher\", researcher_node)\n",
    "workflow.add_node(\"validator\", validator_node)\n",
    "workflow.add_node(\"responder\", responder_node)\n",
    "\n",
    "# Set entry point\n",
    "workflow.set_entry_point(\"input\")\n",
    "\n",
    "# Add edges\n",
    "workflow.add_edge(\"input\", \"analyzer\")\n",
    "workflow.add_edge(\"analyzer\", \"researcher\")\n",
    "workflow.add_edge(\"researcher\", \"validator\")\n",
    "workflow.add_edge(\"validator\", \"responder\")\n",
    "\n",
    "# Finish\n",
    "workflow.set_finish_point(\"responder\")\n",
    "\n",
    "# Compile\n",
    "app = workflow.compile()\n"
   ]
  },
  {
   "cell_type": "code",
   "execution_count": 176,
   "id": "cb9158c0",
   "metadata": {},
   "outputs": [
    {
     "name": "stdout",
     "output_type": "stream",
     "text": [
      "📊 Analyzing query: Tell me a philosophical thought about time?\n",
      "🔍 Analysis: The user's intent is to **receive a philosophical reflection or contemplation on the nature of time.**  They are seeking insight into a philosophical concept, not a factual explanation.  They want to explore a thought-provoking idea related to time, potentially exploring its subjective nature, its linearity or non-linearity, its relationship to existence, or other metaphysical aspects.\n",
      "🔬 Researcher activated for query: Tell me a philosophical thought about time?\n",
      "📏 Score (L2 Distance): 1.71\n",
      "📏 Score (L2 Distance): 1.85\n",
      "📏 Score (L2 Distance): 1.88\n",
      "❌ RAG rejected — all documents were above the distance threshold.\n",
      "🌐 Using Web\n",
      "✅ Validating response...\n",
      "📏 Score (L2 Distance): 1.71\n",
      "📏 Score (L2 Distance): 1.85\n",
      "📏 Score (L2 Distance): 1.88\n",
      "❌ RAG rejected — all documents were above the distance threshold.\n",
      "🌐 RAG failed. Using Web for validation.\n",
      "🧪 Gemini validation reply: ✅\n",
      "🧠 Generating response for: Tell me a philosophical thought about time?\n",
      "💬 Response (first 500 chars): 🌐 Answer based on WEB:\n",
      "\n",
      "The Philosophy of Time: Time is the objective ruler of the universe. Time is the beginning and the end of all things, a clock whose ticker only moves forward. (Source: https://www.thephilosophyofeverything.com/blog/2016/6/5/the-philosophy-of-time) ...\n",
      "\n",
      "🧾 Final Response: 🌐 Answer based on WEB: The Philosophy of Time: Time is the objective ruler of the universe. Time is the beginning and the end of all things, a clock whose ticker only moves forward. (Source: https://www.thephilosophyofeverything.com/blog/2016/6/5/the-philosophy-of-time)\n",
      "🔁 Iterations: 0\n",
      "✅ Validated: True\n"
     ]
    },
    {
     "data": {
      "text/html": [
       "\n",
       "<div style=\"border:1px solid #ccc; padding:10px; max-height:300px; overflow:auto; white-space:pre-wrap;\">\n",
       "<b>🧾 Final Response:</b><br>🌐 Answer based on WEB: The Philosophy of Time: Time is the objective ruler of the universe. Time is the beginning and the end of all things, a clock whose ticker only moves forward. (Source: https://www.thephilosophyofeverything.com/blog/2016/6/5/the-philosophy-of-time)<br><br>\n",
       "<b>🔁 Iterations:</b> 0<br>\n",
       "<b>✅ Validated:</b> True\n",
       "</div>\n"
      ],
      "text/plain": [
       "<IPython.core.display.HTML object>"
      ]
     },
     "metadata": {},
     "output_type": "display_data"
    }
   ],
   "source": [
    "# 🚀 Run the workflow\n",
    "import re\n",
    "\n",
    "\n",
    "raw_final_state = app.invoke(initial_state)\n",
    "final_state = AgentState(**raw_final_state)\n",
    "\n",
    "# 🧾 Format response\n",
    "cleaned_response = re.sub(r'\\s*\\n\\s*', ' ', final_state.response).strip()\n",
    "\n",
    "# Print to console\n",
    "print(\"\\n🧾 Final Response:\", cleaned_response)\n",
    "print(\"🔁 Iterations:\", final_state.iteration)\n",
    "print(\"✅ Validated:\", final_state.validated)\n",
    "\n",
    "# 🖥️ HTML display\n",
    "display(HTML(f\"\"\"\n",
    "<div style=\"border:1px solid #ccc; padding:10px; max-height:300px; overflow:auto; white-space:pre-wrap;\">\n",
    "<b>🧾 Final Response:</b><br>{cleaned_response}<br><br>\n",
    "<b>🔁 Iterations:</b> {final_state.iteration}<br>\n",
    "<b>✅ Validated:</b> {final_state.validated}\n",
    "</div>\n",
    "\"\"\"))\n"
   ]
  }
 ],
 "metadata": {
  "kernelspec": {
   "display_name": "base",
   "language": "python",
   "name": "python3"
  },
  "language_info": {
   "codemirror_mode": {
    "name": "ipython",
    "version": 3
   },
   "file_extension": ".py",
   "mimetype": "text/x-python",
   "name": "python",
   "nbconvert_exporter": "python",
   "pygments_lexer": "ipython3",
   "version": "3.13.2"
  }
 },
 "nbformat": 4,
 "nbformat_minor": 5
}
